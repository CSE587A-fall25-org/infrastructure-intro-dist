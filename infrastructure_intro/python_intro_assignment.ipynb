{
 "cells": [
  {
   "cell_type": "markdown",
   "metadata": {},
   "source": [
    "# The Assignment\n",
    "\n",
    "In this assignment, we are trying to get comfortable using github, github \n",
    "classrooms and vscode.\n",
    "\n",
    "The instructions for accepting the assignment, launching a github codespace, \n",
    "and turning in the assignment are on Canvas.\n",
    "\n",
    "The code for this assignment, and future assignments, will be in the directory \n",
    "`\\<assignment_repo_name\\>/assignment.py`. In this case, that means you'll look \n",
    "in `infrastructure_intro/assignment.py`.\n",
    "\n",
    "The instructions for this assignment are included as a comment in \n",
    "`assignment.py`. They are very brief. However, in future assignments there may \n",
    "be some instructional material in this assignment notebook which you will need \n",
    "to read.\n",
    "\n",
    "\n",
    "**Remember**: You will *never* turn in code in a notebook for a grade. Graded \n",
    "code goes into the `assignment.py` file. While partial credit is possible, \n",
    "your goal is to add correct code to `assignment.py` such that the tests pass. \n",
    "These tests are run automatically when you submit.\n",
    "\n",
    "That said, you are more than welcome to use this notebook as scratch space -- \n",
    "feel free to add code or any other cells. Just remember that it will not be \n",
    "looked at for grading purposes."
   ]
  }
 ],
 "metadata": {
  "kernelspec": {
   "display_name": ".venv",
   "language": "python",
   "name": "python3"
  },
  "language_info": {
   "codemirror_mode": {
    "name": "ipython",
    "version": 3
   },
   "file_extension": ".py",
   "mimetype": "text/x-python",
   "name": "python",
   "nbconvert_exporter": "python",
   "pygments_lexer": "ipython3",
   "version": "3.9.17"
  },
  "orig_nbformat": 4
 },
 "nbformat": 4,
 "nbformat_minor": 2
}
