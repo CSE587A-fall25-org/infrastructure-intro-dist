{
 "cells": [
  {
   "cell_type": "markdown",
   "metadata": {},
   "source": [
    "# Python\n",
    "\n",
    "## Python intro\n",
    "\n",
    "The [w3 school python tutorial](https://www.w3schools.com/python/python_syntax.asp) \n",
    "starting at the 'syntax' page is a good introduction to the language. Since \n",
    "everyone should be somewhat familiar with at least 1 programming langauge, \n",
    "you should be able to use this as a reference for the basics -- writing \n",
    "conditionals, loops, etc.  \n",
    "\n",
    "## Numpy intro\n",
    "\n",
    "You will also want to familiarize yourself with `numpy`, the package used \n",
    "to extend Python into the world of numeric computing. The \n",
    "[numpy beginner's guide](https://numpy.org/doc/1.25/user/absolute_beginners.html) \n",
    "is a good place to start, but you should put the \n",
    "[user's guide](https://numpy.org/doc/1.25/user/index.html#user) in your \n",
    "favorites.\n",
    "\n",
    "## Some notes on iteration\n",
    "\n",
    "It is worth discussing a few things related to loops in a python.  \n",
    "\n",
    "Here is a basic for loop:"
   ]
  },
  {
   "cell_type": "code",
   "execution_count": 146,
   "metadata": {},
   "outputs": [
    {
     "name": "stdout",
     "output_type": "stream",
     "text": [
      "current iteration: 0\n",
      "current iteration: 1\n",
      "current iteration: 2\n",
      "current iteration: 3\n",
      "current iteration: 4\n"
     ]
    }
   ],
   "source": [
    "for i in range(5):\n",
    "    print(f'current iteration: {i}')"
   ]
  },
  {
   "cell_type": "markdown",
   "metadata": {},
   "source": [
    "But in python, you will frequently see list comprehensions used in preference \n",
    "to simple for loops. There is no benefit of one over the other necessarily, \n",
    "except for readability and adhering to the python conventions (which aids in \n",
    "readability)"
   ]
  },
  {
   "cell_type": "code",
   "execution_count": 147,
   "metadata": {},
   "outputs": [
    {
     "name": "stdout",
     "output_type": "stream",
     "text": [
      "0\n",
      "1\n",
      "2\n",
      "3\n",
      "4\n"
     ]
    },
    {
     "data": {
      "text/plain": [
       "[None, None, None, None, None]"
      ]
     },
     "execution_count": 147,
     "metadata": {},
     "output_type": "execute_result"
    }
   ],
   "source": [
    "[print(i) for i in range(5)]"
   ]
  },
  {
   "cell_type": "markdown",
   "metadata": {},
   "source": [
    "Note that a list comprehension always returns a list! So, the print statement \n",
    "is executed, but then a list of length 5 with entries all `None` is returned.  \n",
    "\n",
    "The next example is very contrived, but I want to note that sometimes you want \n",
    "to execute some action repeatedly, but don't need to use the index variable \n",
    "(`i` in the examples above). By convention in python, you use `_` instead.  \n",
    "\n",
    "For example:  "
   ]
  },
  {
   "cell_type": "code",
   "execution_count": 148,
   "metadata": {},
   "outputs": [
    {
     "name": "stdout",
     "output_type": "stream",
     "text": [
      "Hello, world!\n",
      "Hello, world!\n",
      "Hello, world!\n",
      "Hello, world!\n",
      "Hello, world!\n"
     ]
    }
   ],
   "source": [
    "for _ in range(5):\n",
    "    print(\"Hello, world!\")"
   ]
  },
  {
   "cell_type": "markdown",
   "metadata": {},
   "source": [
    "The `range()` operator creates a sequence starting at 0 and ending at 4. \n",
    "This \"0-indexed, half-open\" behavior needs to be kept in mind in order to \n",
    "be sure that you're extracting the right indicies. For instance, let's say you \n",
    "have the following list:"
   ]
  },
  {
   "cell_type": "code",
   "execution_count": 149,
   "metadata": {},
   "outputs": [
    {
     "name": "stdout",
     "output_type": "stream",
     "text": [
      "[0, 1, 2, 3, 4]\n"
     ]
    }
   ],
   "source": [
    "# range() returns a generator object, which only gets created in memory \n",
    "# when it is needed. the list() function forces the generator to create\n",
    "# the list in memory, where it is stored in the variable my_list.\n",
    "my_list = list(range(5))\n",
    "\n",
    "print(my_list)"
   ]
  },
  {
   "cell_type": "markdown",
   "metadata": {},
   "source": [
    "and you wish to extract the second, third and fourth items. You would do so \n",
    "like this -- note how the list indicies are 1 off what we described above:"
   ]
  },
  {
   "cell_type": "code",
   "execution_count": 150,
   "metadata": {},
   "outputs": [
    {
     "name": "stdout",
     "output_type": "stream",
     "text": [
      "[1, 2, 3]\n"
     ]
    }
   ],
   "source": [
    "print(my_list[1:4])"
   ]
  },
  {
   "cell_type": "markdown",
   "metadata": {},
   "source": [
    "Aside from the comprehension and generator objects like `range()`, Python \n",
    "should seem very familiar, if you are familiar with another language. In \n",
    "general, remember the concepts from functional programming -- if you need to \n",
    "do something to each of a set of items, store the items in a list, write a \n",
    "function, and then apply that function over the list. This way, you can write \n",
    "the function using a single object (rather than worry about the entire list) -- \n",
    "this makes the development process easier, and the code itself easier to test \n",
    "and maintain."
   ]
  },
  {
   "cell_type": "markdown",
   "metadata": {},
   "source": [
    "## Functions and docstrings\n",
    "\n",
    "You are going to notice that the functions you will be working on in this class \n",
    "have a good deal of documentation. This is done in one of the common \n",
    "documentation format, [sphinx](https://sphinx-rtd-tutorial.readthedocs.io/en/latest/docstrings.html). \n",
    "There are other common formats -- google being one -- but we're going to stick \n",
    "to the sphinx format for these assignments.  \n",
    "\n",
    "We are also going to use 'type hints' in the function definition. Python is not \n",
    "a typed language, which means that any variable can take on any datatype at \n",
    "any time. This is great for flexibility, but especially for functions, it is \n",
    "nice to know what datatype the function expects a given input variable to be, \n",
    "and this is what type hints provide. It is just a form of documentation.  \n",
    "\n",
    "For example, this is an entirely valid python function:  "
   ]
  },
  {
   "cell_type": "code",
   "execution_count": 151,
   "metadata": {},
   "outputs": [],
   "source": [
    "def add_two_numbers(a, b):\n",
    "\treturn a + b"
   ]
  },
  {
   "cell_type": "markdown",
   "metadata": {},
   "source": [
    "But, we recognize that documenting our code, especially in a way that can take \n",
    "advantage of automatic documentation builders \n",
    "(like [sphinx](https://www.sphinx-doc.org/en/master/)) is important. Therefore, \n",
    "we add some type hints and write a docstring which provides 'hints' on what the \n",
    "input datatype(s) are expected to be, and what the output datatype(s) are \n",
    "expected to be. We also add an example -- examples of what a normal call looks \n",
    "like, and the expected output, are very useful in your docs. You can read \n",
    "more about this at [doctest](https://docs.python.org/3/library/doctest.html) \n",
    "if you wish.\n",
    "\n",
    "As a side note, by providing type hints, github copilot will be even better at \n",
    "writing your docs for you. Even better, it can generate the entire \n",
    "function for you, and does a pretty good job of it, if you write a nice \n",
    "docstring."
   ]
  },
  {
   "cell_type": "code",
   "execution_count": 152,
   "metadata": {},
   "outputs": [],
   "source": [
    "def add_two_numbers(a: (int,float), b: (int,float)) -> (int,float):\n",
    "\t\"\"\"Add two numbers together\n",
    "\t\n",
    "\t:param a: first number\n",
    "\t:type a: int or float\n",
    "\t:param b: second number\n",
    "\t:type b: int or float\n",
    "\n",
    "\t:returns: sum of a and b\n",
    "\n",
    "\tadd_two_numbers() Example\n",
    "\t-----------------------\n",
    "\t>>> add_two_numbers(1,2)\n",
    "\t3\n",
    "\t\"\"\"\n",
    "\treturn a + b"
   ]
  },
  {
   "cell_type": "markdown",
   "metadata": {},
   "source": [
    "Something else you'll notice in our functions in the assignments is some \n",
    "checking of types and other features of what we expect the input to be. For \n",
    "example, int his function, we might do this:"
   ]
  },
  {
   "cell_type": "code",
   "execution_count": 153,
   "metadata": {},
   "outputs": [],
   "source": [
    "def add_two_numbers(a: (int,float), b: (int,float)) -> (int,float):\n",
    "\t\"\"\"Add two numbers together\n",
    "\t\n",
    "\t:param a: first number\n",
    "\t:type a: int or float\n",
    "\t:param b: second number\n",
    "\t:type b: int or float\n",
    "\n",
    "\t:returns: sum of a and b\n",
    "\n",
    "\t:raises TypeError: if a or b is not an int or float\n",
    "\n",
    "\tadd_two_numbers Example\n",
    "\t-----------------------\n",
    "\t>>> add_two_numbers(1,2)\n",
    "\t3\n",
    "\t\"\"\"\n",
    "\tif not isinstance(a, (int,float)):\n",
    "\t\traise TypeError(\"a must be an int or float\")\n",
    "\tif not isinstance(b, (int,float)):\n",
    "\t\traise TypeError(\"b must be an int or float\")\n",
    "\t\n",
    "\treturn a + b"
   ]
  },
  {
   "cell_type": "markdown",
   "metadata": {},
   "source": [
    "Finally, in packaged code it is very useful to use the python logging package. \n",
    "If you have done any amount of coding in the past, then this is somewhat like \n",
    "using `print` statements. However, it gives you more control over when and \n",
    "where these statements are displayed. In every `assignment.py` file, and every \n",
    "assignment package, a logger is already configured. If you want to use it, you \n",
    "would just add a logger statement, like this:"
   ]
  },
  {
   "cell_type": "code",
   "execution_count": 154,
   "metadata": {},
   "outputs": [
    {
     "name": "stderr",
     "output_type": "stream",
     "text": [
      "DEBUG:example_logger:Adding 1 and 2\n"
     ]
    },
    {
     "name": "stdout",
     "output_type": "stream",
     "text": [
      "the output of the function is: 3\n"
     ]
    }
   ],
   "source": [
    "# ignore this stuff -- it will be done for you in the assignment\n",
    "import logging\n",
    "logger = logging.getLogger('example_logger')\n",
    "logger.setLevel(logging.DEBUG)\n",
    "### end ignore\n",
    "\n",
    "def add_two_numbers(a: (int,float), b: (int,float)) -> (int,float):\n",
    "\t\"\"\"Add two numbers together\n",
    "\t\n",
    "\t:param a: first number\n",
    "\t:type a: int or float\n",
    "\t:param b: second number\n",
    "\t:type b: int or float\n",
    "\n",
    "\t:returns: sum of a and b\n",
    "\n",
    "\t:raises TypeError: if a or b are not ints or floats\n",
    "\n",
    "\tadd_two_numbers Example\n",
    "\t-----------------------\n",
    "\t>>> add_two_numbers(1,2)\n",
    "\t3\n",
    "\t\"\"\"\n",
    "\t# check input\n",
    "\tif not isinstance(a, (int,float)):\n",
    "\t\traise TypeError(\"a must be an int or float\")\n",
    "\tif not isinstance(b, (int,float)):\n",
    "\t\traise TypeError(\"b must be an int or float\")\n",
    "\t\n",
    "\t# add a debug logging statement\n",
    "\tlogger.debug(\"Adding %s and %s\" % (a,b))\n",
    "\n",
    "\t# return the result\n",
    "\treturn a + b\n",
    "\n",
    "print(f\"the output of the function is: {add_two_numbers(1,2)}\")"
   ]
  },
  {
   "cell_type": "markdown",
   "metadata": {},
   "source": [
    "Notice that in the example above, we also added inline comments and added some \n",
    "spaces.  \n",
    "\n",
    "Code at this level is for humans, not computers. Smart looking code is code \n",
    "that is readable and easily maintained. It is not code that is difficult to \n",
    "understand and debug.\n"
   ]
  },
  {
   "cell_type": "markdown",
   "metadata": {},
   "source": [
    "### Logging\n",
    "\n",
    "The nice thing about using the logger.debug for printing debug statements \n",
    "is that we can decide not to display those messages by changing the logging \n",
    "level. This way, we can leave useful debug messsages in the code, print them \n",
    "if we wish to, but avoid cluttering the output in general. In the assignments, \n",
    "a logger is set up for you at the top of the `assignments.py` file. So, you can \n",
    "use it in your scripts by just adding lines like: \n",
    "\n",
    "```python\n",
    "logger.debug(\"I'm a debug message\")\n",
    "```\n",
    "or\n",
    "```python\n",
    "logger.warning(\"I'm a warning message\")\n",
    "```\n",
    "If you're using a jupyter console or jupyter notebook to interactively \n",
    "work on the assignment code, then you may want to adjust the logging level. \n",
    "You can adjust the logging level for the assignment packages like this:\n",
    "\n",
    "```python\n",
    "import logging\n",
    "import <assignment package name>\n",
    "\n",
    "<assignment package name>.utils.configure_logging(logging.DEBUG)\n",
    "```\n",
    "\n",
    "The levels of logging are:\n",
    "\n",
    "```python\n",
    "logging.DEBUG\n",
    "logging.INFO\n",
    "logging.WARN\n",
    "logging.ERROR\n",
    "```\n",
    "\n",
    "So, continuing with the `add_two_numbers()` example, if we didn't want that \n",
    "debug message to print, we could do one of two things:\n",
    "\n",
    "1. delete the logger line\n",
    "1. adjust the logging level\n",
    "\n",
    "Here is an example of adjusting the logging level"
   ]
  },
  {
   "cell_type": "code",
   "execution_count": 155,
   "metadata": {},
   "outputs": [
    {
     "name": "stdout",
     "output_type": "stream",
     "text": [
      "the output of the function is: 3\n"
     ]
    }
   ],
   "source": [
    "# NOTE! in your assignment packages, if you are working on them in an \n",
    "# interactive session, you will use code similar to the snippet above to \n",
    "# adjust the logger level. This is only for demonstration purposes in this\n",
    "# notebook.\n",
    "logger.setLevel(logging.INFO)\n",
    "\n",
    "print(f\"the output of the function is: {add_two_numbers(1,2)}\")"
   ]
  }
 ],
 "metadata": {
  "kernelspec": {
   "display_name": ".venv",
   "language": "python",
   "name": "python3"
  },
  "language_info": {
   "codemirror_mode": {
    "name": "ipython",
    "version": 3
   },
   "file_extension": ".py",
   "mimetype": "text/x-python",
   "name": "python",
   "nbconvert_exporter": "python",
   "pygments_lexer": "ipython3",
   "version": "3.9.17"
  }
 },
 "nbformat": 4,
 "nbformat_minor": 2
}
