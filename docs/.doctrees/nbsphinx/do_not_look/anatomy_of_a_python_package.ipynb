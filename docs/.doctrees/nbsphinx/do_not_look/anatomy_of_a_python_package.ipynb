{
 "cells": [
  {
   "cell_type": "markdown",
   "metadata": {},
   "source": [
    "# Python Package Structure\n",
    "\n",
    "A python, or more generally a software, package is just a collection of \n",
    "files and directories that contain code. But, typically what is meant when we \n",
    "call a set of software a 'package' is that it can be easily installed. In the \n",
    "case of Python, this means that the package can be installed with `pip`.  \n",
    "\n",
    "Formally packaging our code makes a number of tools available to us \n",
    "(the developers). As such, the code we will be writing in this course in Python \n",
    "is formally packaged.  \n",
    "\n",
    "## Stuff you can ignore\n",
    "\n",
    "For this course, you can ignore the vast majority of files and directories \n",
    "which are in the assignment repositories. These files and directories function \n",
    "to configure the various tools, for instance some of the github or vscode \n",
    "functionality. These are files which you should expect to see, but which you do \n",
    "**not** need to open:\n",
    "\n",
    "- .devcontainer\n",
    "- .github\n",
    "- .pytest_cache\n",
    "- .venv\n",
    "- .vscode\n",
    "- docs\n",
    "- .gitignore: note, it can be sometimes useful to add paths to the .gitignore\n",
    "- make.bat\n",
    "- Makefile\n",
    "- poetry.lock\n",
    "- pyproject.toml\n",
    "\n",
    "## docsource\n",
    "\n",
    "In `docsource` (not `docs!`), you'll find a file called \n",
    "`<assignment package name>_assignment.ipynb`, for example \n",
    "`python_intro_assignment.ipynb`. This is just the assignment prompt notebook, \n",
    "and might be useful to reference for either instructions or source code.\n",
    "**IMPORTANT**: you *will not* be turning in code from the assignment notebook. \n",
    "You're welcome to code in it, of course, but no one will look at it.\n",
    "\n",
    "## Assignment files\n",
    "\n",
    "In each package, there is by convention a subdirectory with the same name as \n",
    "the repo. In this assignment, that means there is a subdirectory called \n",
    "`python_intro`. In this repo, there is more stuff which you can and should\n",
    "ignore:\n",
    "\n",
    "- \\_\\_pycache\\_\\_\n",
    "- \\_\\_init\\_\\_.py\n",
    "- utils\n",
    "\n",
    "**But**, you *should* look at `assignment.py` and `test_assignment.py`: \n",
    "\n",
    "- `assignment.py` will store the source code which is where you will be doing \n",
    "the majority of your work\n",
    "- `test_assignment.py` stores the tests which your code should pass. In very \n",
    "limited cases, you will be asked to write or adjust a test.\n",
    "\n"
   ]
  },
  {
   "cell_type": "code",
   "execution_count": 1,
   "metadata": {
    "execution": {
     "iopub.execute_input": "2023-08-07T18:26:05.718588Z",
     "iopub.status.busy": "2023-08-07T18:26:05.718268Z",
     "iopub.status.idle": "2023-08-07T18:26:05.731772Z",
     "shell.execute_reply": "2023-08-07T18:26:05.730717Z"
    },
    "vscode": {
     "languageId": "plaintext"
    }
   },
   "outputs": [],
   "source": [
    "import python_intro\n",
    "\n",
    "# do something with some function"
   ]
  }
 ],
 "metadata": {
  "language_info": {
   "codemirror_mode": {
    "name": "ipython",
    "version": 3
   },
   "file_extension": ".py",
   "mimetype": "text/x-python",
   "name": "python",
   "nbconvert_exporter": "python",
   "pygments_lexer": "ipython3",
   "version": "3.10.12"
  }
 },
 "nbformat": 4,
 "nbformat_minor": 2
}
